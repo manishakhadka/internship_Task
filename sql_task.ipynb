{
  "cells": [
    {
      "cell_type": "markdown",
      "metadata": {
        "id": "view-in-github",
        "colab_type": "text"
      },
      "source": [
        "<a href=\"https://colab.research.google.com/github/manishakhadka/internship_Task/blob/main/sql_task.ipynb\" target=\"_parent\"><img src=\"https://colab.research.google.com/assets/colab-badge.svg\" alt=\"Open In Colab\"/></a>"
      ]
    },
    {
      "cell_type": "code",
      "execution_count": null,
      "metadata": {
        "id": "2N8alDNp2Sev"
      },
      "outputs": [],
      "source": [
        "import requests\n",
        "from IPython.display import Markdown"
      ]
    },
    {
      "cell_type": "code",
      "execution_count": null,
      "metadata": {
        "id": "3m5gSDgS2Se3"
      },
      "outputs": [],
      "source": [
        "def exe(query):\n",
        "    form_data = {\n",
        "    \"query\": query\n",
        "    }\n",
        "    headers = {\n",
        "        \"Content-Type\": \"multipart/form-data\"\n",
        "    }\n",
        "    url = \"https://www.w3resource.com/sql-exercises/sql-con.php\"\n",
        "    response = requests.post(url, data=form_data)\n",
        "    result = response.text\n",
        "    return Markdown(result)"
      ]
    },
    {
      "cell_type": "code",
      "execution_count": null,
      "metadata": {
        "id": "VaT5MblM2Se5",
        "outputId": "9d1ec024-62e2-4b92-fd7d-37c2ba107491",
        "colab": {
          "base_uri": "https://localhost:8080/",
          "height": 236
        }
      },
      "outputs": [
        {
          "output_type": "execute_result",
          "data": {
            "text/plain": [
              "<IPython.core.display.Markdown object>"
            ],
            "text/markdown": "<table id='rs_tbl' class='table table-bordered' style='display: block; overflow-x: scroll'>\n<tr>\n<th>salesman_id</th><th>name</th><th>city</th><th>commission</th></tr><tr><td>5001</td><td>James Hoog</td><td>New York</td><td>0.15</td></tr>\n<tr><td>5002</td><td>Nail Knite</td><td>Paris</td><td>0.13</td></tr>\n<tr><td>5005</td><td>Pit Alex</td><td>London</td><td>0.11</td></tr>\n<tr><td>5006</td><td>Mc Lyon</td><td>Paris</td><td>0.14</td></tr>\n<tr><td>5007</td><td>Paul Adam</td><td>Rome</td><td>0.13</td></tr>\n<tr><td>5003</td><td>Lauson Hen</td><td>San Jose</td><td>0.12</td></tr>\n</table>\n"
          },
          "metadata": {},
          "execution_count": 4
        }
      ],
      "source": [
        "exe(\"SELECT * FROM salesman\")"
      ]
    },
    {
      "cell_type": "code",
      "execution_count": null,
      "metadata": {
        "colab": {
          "base_uri": "https://localhost:8080/",
          "height": 236
        },
        "id": "GEnDiuPF2Se9",
        "outputId": "d33dead9-42ff-44b2-8058-52e92bea4852"
      },
      "outputs": [
        {
          "output_type": "execute_result",
          "data": {
            "text/plain": [
              "<IPython.core.display.Markdown object>"
            ],
            "text/markdown": "<table id='rs_tbl' class='table table-bordered' style='display: block; overflow-x: scroll'>\n<tr>\n<th>customername</th><th>city</th><th>salesman</th><th>commission</th></tr><tr><td>Nick Rimando</td><td>New York</td><td>James Hoog</td><td>0.15</td></tr>\n<tr><td>Brad Davis</td><td>New York</td><td>James Hoog</td><td>0.15</td></tr>\n<tr><td>Graham Zusi</td><td>California</td><td>Nail Knite</td><td>0.13</td></tr>\n<tr><td>Julian Green</td><td>London</td><td>Nail Knite</td><td>0.13</td></tr>\n<tr><td>Fabian Johnson</td><td>Paris</td><td>Mc Lyon</td><td>0.14</td></tr>\n<tr><td>Jozy Altidor</td><td>Moscow</td><td>Paul Adam</td><td>0.13</td></tr>\n</table>\n"
          },
          "metadata": {},
          "execution_count": 5
        }
      ],
      "source": [
        "#Q.No.4 From the following tables write a SQL query to find salespeople who received commissions of more than 12 percent from the company.\n",
        "# Return Customer Name, customer city,\n",
        "#  Salesman, commission.\n",
        "\n",
        "# Sample table: customer\n",
        "\n",
        "\n",
        "exe(\"SELECT customer.cust_name AS customername, customer.city, salesman.name AS salesman,salesman.commission FROM customer INNER JOIN salesman ON customer.salesman_id=salesman.salesman_id WHERE salesman.commission>0.12 \" )"
      ]
    },
    {
      "cell_type": "code",
      "source": [
        "exe(\"SELECT customer.cust_name AS customername, customer.city, salesman.name AS salesman,salesman.commission FROM customer INNER JOIN salesman ON customer.salesman_id=salesman.salesman_id\")"
      ],
      "metadata": {
        "colab": {
          "base_uri": "https://localhost:8080/",
          "height": 299
        },
        "id": "Oqk7RBft8uuo",
        "outputId": "e7c07b03-4ad0-4265-f2de-eb6cef682807"
      },
      "execution_count": null,
      "outputs": [
        {
          "output_type": "execute_result",
          "data": {
            "text/plain": [
              "<IPython.core.display.Markdown object>"
            ],
            "text/markdown": "<table id='rs_tbl' class='table table-bordered' style='display: block; overflow-x: scroll'>\n<tr>\n<th>customername</th><th>city</th><th>salesman</th><th>commission</th></tr><tr><td>Nick Rimando</td><td>New York</td><td>James Hoog</td><td>0.15</td></tr>\n<tr><td>Brad Davis</td><td>New York</td><td>James Hoog</td><td>0.15</td></tr>\n<tr><td>Graham Zusi</td><td>California</td><td>Nail Knite</td><td>0.13</td></tr>\n<tr><td>Julian Green</td><td>London</td><td>Nail Knite</td><td>0.13</td></tr>\n<tr><td>Fabian Johnson</td><td>Paris</td><td>Mc Lyon</td><td>0.14</td></tr>\n<tr><td>Geoff Cameron</td><td>Berlin</td><td>Lauson Hen</td><td>0.12</td></tr>\n<tr><td>Jozy Altidor</td><td>Moscow</td><td>Paul Adam</td><td>0.13</td></tr>\n<tr><td>Brad Guzan</td><td>London</td><td>Pit Alex</td><td>0.11</td></tr>\n</table>\n"
          },
          "metadata": {},
          "execution_count": 6
        }
      ]
    },
    {
      "cell_type": "code",
      "source": [
        "# 5. From the following tables write a SQL query to locate those salespeople who do not live in the same city where their customers live and\n",
        "#  have received a commission of more than 12% from the company. Return Customer Name, customer city, Salesman, salesman city, commission.\n",
        "\n",
        "exe(\"SELECT a.cust_name, a.city, b.name, b.city, b.commission FROM customer a INNER JOIN salesman b ON a.salesman_id = b.salesman_id  WHERE a.city<>b.city AND b.commission  >0.12\")\n",
        "\n",
        "\n"
      ],
      "metadata": {
        "colab": {
          "base_uri": "https://localhost:8080/",
          "height": 142
        },
        "id": "i3xBGymU83B0",
        "outputId": "779dbec5-baeb-4c6b-915f-ed7ac84e0d24"
      },
      "execution_count": null,
      "outputs": [
        {
          "output_type": "execute_result",
          "data": {
            "text/plain": [
              "<IPython.core.display.Markdown object>"
            ],
            "text/markdown": "<table id='rs_tbl' class='table table-bordered' style='display: block; overflow-x: scroll'>\n<tr>\n<th>cust_name</th><th>city</th><th>name</th><th>commission</th></tr><tr><td>Graham Zusi</td><td>Paris</td><td>Nail Knite</td><td>0.13</td></tr>\n<tr><td>Julian Green</td><td>Paris</td><td>Nail Knite</td><td>0.13</td></tr>\n<tr><td>Jozy Altidor</td><td>Rome</td><td>Paul Adam</td><td>0.13</td></tr>\n</table>\n"
          },
          "metadata": {},
          "execution_count": 7
        }
      ]
    },
    {
      "cell_type": "code",
      "source": [],
      "metadata": {
        "id": "ghEDkKuIMv9P"
      },
      "execution_count": null,
      "outputs": []
    },
    {
      "cell_type": "code",
      "source": [
        "# 6. From the following tables write a SQL query to find the details of an order. Return ord_no, ord_date, purch_amt, Customer Name, grade, Salesman, commission.\n",
        "#  Go to the editor\n",
        "\n",
        "\n",
        "exe(\"SELECT a.ord_no, a.ord_date, a.purch_Amt, b.cust_name, b.grade, c.name, c.commission FROM orders a INNER JOIN customer b ON a.customer_id=b.customer_id INNER JOIN salesman c ON a.salesman_id=c.salesman_id\")"
      ],
      "metadata": {
        "colab": {
          "base_uri": "https://localhost:8080/",
          "height": 425
        },
        "id": "Qb3N46-fJ5wJ",
        "outputId": "797607a0-7c80-4d9f-9d20-271640310647"
      },
      "execution_count": null,
      "outputs": [
        {
          "output_type": "execute_result",
          "data": {
            "text/plain": [
              "<IPython.core.display.Markdown object>"
            ],
            "text/markdown": "<table id='rs_tbl' class='table table-bordered' style='display: block; overflow-x: scroll'>\n<tr>\n<th>ord_no</th><th>ord_date</th><th>purch_amt</th><th>cust_name</th><th>grade</th><th>name</th><th>commission</th></tr><tr><td>70009</td><td>2012-09-10</td><td>270.65</td><td>Brad Guzan</td><td></td><td>Pit Alex</td><td>0.11</td></tr>\n<tr><td>70002</td><td>2012-10-05</td><td>65.26</td><td>Nick Rimando</td><td>100</td><td>James Hoog</td><td>0.15</td></tr>\n<tr><td>70004</td><td>2012-08-17</td><td>110.50</td><td>Geoff Cameron</td><td>100</td><td>Lauson Hen</td><td>0.12</td></tr>\n<tr><td>70005</td><td>2012-07-27</td><td>2400.60</td><td>Brad Davis</td><td>200</td><td>James Hoog</td><td>0.15</td></tr>\n<tr><td>70008</td><td>2012-09-10</td><td>5760.00</td><td>Nick Rimando</td><td>100</td><td>James Hoog</td><td>0.15</td></tr>\n<tr><td>70010</td><td>2012-10-10</td><td>1983.43</td><td>Fabian Johnson</td><td>300</td><td>Mc Lyon</td><td>0.14</td></tr>\n<tr><td>70003</td><td>2012-10-10</td><td>2480.40</td><td>Geoff Cameron</td><td>100</td><td>Lauson Hen</td><td>0.12</td></tr>\n<tr><td>70011</td><td>2012-08-17</td><td>75.29</td><td>Jozy Altidor</td><td>200</td><td>Paul Adam</td><td>0.13</td></tr>\n<tr><td>70013</td><td>2012-04-25</td><td>3045.60</td><td>Nick Rimando</td><td>100</td><td>James Hoog</td><td>0.15</td></tr>\n<tr><td>70001</td><td>2012-10-05</td><td>150.50</td><td>Graham Zusi</td><td>200</td><td>Nail Knite</td><td>0.13</td></tr>\n<tr><td>70007</td><td>2012-09-10</td><td>948.50</td><td>Graham Zusi</td><td>200</td><td>Nail Knite</td><td>0.13</td></tr>\n<tr><td>70012</td><td>2012-06-27</td><td>250.45</td><td>Julian Green</td><td>300</td><td>Nail Knite</td><td>0.13</td></tr>\n</table>\n"
          },
          "metadata": {},
          "execution_count": 8
        }
      ]
    },
    {
      "cell_type": "code",
      "source": [
        "# 7. Write a SQL statement to join the tables salesman, customer and orders so that the same column of each table appears once and only the relational rows are returned.\n",
        "\n",
        "\n",
        "exe(\"SELECT * FROM orders NATURAL JOIN customer NATURAL JOIN salesman\")"
      ],
      "metadata": {
        "colab": {
          "base_uri": "https://localhost:8080/",
          "height": 361
        },
        "id": "JK4jNObyMFD9",
        "outputId": "dcf1e375-dc84-401f-dc9b-3e43ef80ccfe"
      },
      "execution_count": null,
      "outputs": [
        {
          "output_type": "execute_result",
          "data": {
            "text/plain": [
              "<IPython.core.display.Markdown object>"
            ],
            "text/markdown": "<table id='rs_tbl' class='table table-bordered' style='display: block; overflow-x: scroll'>\n<tr>\n<th>salesman_id</th><th>city</th><th>customer_id</th><th>ord_no</th><th>purch_amt</th><th>ord_date</th><th>cust_name</th><th>grade</th><th>name</th><th>commission</th></tr><tr><td>5005</td><td>London</td><td>3001</td><td>70009</td><td>270.65</td><td>2012-09-10</td><td>Brad Guzan</td><td></td><td>Pit Alex</td><td>0.11</td></tr>\n<tr><td>5001</td><td>New York</td><td>3002</td><td>70002</td><td>65.26</td><td>2012-10-05</td><td>Nick Rimando</td><td>100</td><td>James Hoog</td><td>0.15</td></tr>\n<tr><td>5001</td><td>New York</td><td>3007</td><td>70005</td><td>2400.60</td><td>2012-07-27</td><td>Brad Davis</td><td>200</td><td>James Hoog</td><td>0.15</td></tr>\n<tr><td>5001</td><td>New York</td><td>3002</td><td>70008</td><td>5760.00</td><td>2012-09-10</td><td>Nick Rimando</td><td>100</td><td>James Hoog</td><td>0.15</td></tr>\n<tr><td>5006</td><td>Paris</td><td>3004</td><td>70010</td><td>1983.43</td><td>2012-10-10</td><td>Fabian Johnson</td><td>300</td><td>Mc Lyon</td><td>0.14</td></tr>\n<tr><td>5001</td><td>New York</td><td>3002</td><td>70013</td><td>3045.60</td><td>2012-04-25</td><td>Nick Rimando</td><td>100</td><td>James Hoog</td><td>0.15</td></tr>\n</table>\n"
          },
          "metadata": {},
          "execution_count": 9
        }
      ]
    },
    {
      "cell_type": "code",
      "source": [
        "# 4. From the following tables, write a SQL query to find all those employees who work in department ID 80 or 40. Return first name, last name, department\n",
        "# number and department name.\n",
        "exe(\"SELECT E.first_name , E.last_name, E.department_id ,  D.department_name FROM employees E JOIN departments D ON E.department_id = D.department_id AND E.department_id IN (80 , 40) ORDER BY E.last_name\")"
      ],
      "metadata": {
        "colab": {
          "base_uri": "https://localhost:8080/",
          "height": 1000
        },
        "id": "xzsQ_7_rQ-17",
        "outputId": "20ae9a5a-8120-4127-f74b-2d12881dbe29"
      },
      "execution_count": null,
      "outputs": [
        {
          "output_type": "execute_result",
          "data": {
            "text/plain": [
              "<IPython.core.display.Markdown object>"
            ],
            "text/markdown": "<table id='rs_tbl' class='table table-bordered' style='display: block; overflow-x: scroll'>\n<tr>\n<th>first_name</th><th>last_name</th><th>department_id</th><th>department_name</th></tr><tr><td>Ellen</td><td>Abel</td><td>80</td><td>Sales</td></tr>\n<tr><td>Sundar</td><td>Ande</td><td>80</td><td>Sales</td></tr>\n<tr><td>Amit</td><td>Banda</td><td>80</td><td>Sales</td></tr>\n<tr><td>Elizabeth</td><td>Bates</td><td>80</td><td>Sales</td></tr>\n<tr><td>David</td><td>Bernstein</td><td>80</td><td>Sales</td></tr>\n<tr><td>Harrison</td><td>Bloom</td><td>80</td><td>Sales</td></tr>\n<tr><td>Nanette</td><td>Cambrault</td><td>80</td><td>Sales</td></tr>\n<tr><td>Gerald</td><td>Cambrault</td><td>80</td><td>Sales</td></tr>\n<tr><td>Louise</td><td>Doran</td><td>80</td><td>Sales</td></tr>\n<tr><td>Alberto</td><td>Errazuriz</td><td>80</td><td>Sales</td></tr>\n<tr><td>Tayler</td><td>Fox</td><td>80</td><td>Sales</td></tr>\n<tr><td>Danielle</td><td>Greene</td><td>80</td><td>Sales</td></tr>\n<tr><td>Peter</td><td>Hall</td><td>80</td><td>Sales</td></tr>\n<tr><td>Alyssa</td><td>Hutton</td><td>80</td><td>Sales</td></tr>\n<tr><td>Charles</td><td>Johnson</td><td>80</td><td>Sales</td></tr>\n<tr><td>Janette</td><td>King</td><td>80</td><td>Sales</td></tr>\n<tr><td>Sundita</td><td>Kumar</td><td>80</td><td>Sales</td></tr>\n<tr><td>David</td><td>Lee</td><td>80</td><td>Sales</td></tr>\n<tr><td>Jack</td><td>Livingston</td><td>80</td><td>Sales</td></tr>\n<tr><td>Mattea</td><td>Marvins</td><td>80</td><td>Sales</td></tr>\n<tr><td>Susan</td><td>Mavris</td><td>40</td><td>Human Resources</td></tr>\n<tr><td>Allan</td><td>McEwen</td><td>80</td><td>Sales</td></tr>\n<tr><td>Christopher</td><td>Olsen</td><td>80</td><td>Sales</td></tr>\n<tr><td>Lisa</td><td>Ozer</td><td>80</td><td>Sales</td></tr>\n<tr><td>Karen</td><td>Partners</td><td>80</td><td>Sales</td></tr>\n<tr><td>John</td><td>Russell</td><td>80</td><td>Sales</td></tr>\n<tr><td>Sarath</td><td>Sewall</td><td>80</td><td>Sales</td></tr>\n<tr><td>Lindsey</td><td>Smith</td><td>80</td><td>Sales</td></tr>\n<tr><td>William</td><td>Smith</td><td>80</td><td>Sales</td></tr>\n<tr><td>Patrick</td><td>Sully</td><td>80</td><td>Sales</td></tr>\n<tr><td>Jonathon</td><td>Taylor</td><td>80</td><td>Sales</td></tr>\n<tr><td>Peter</td><td>Tucker</td><td>80</td><td>Sales</td></tr>\n<tr><td>Oliver</td><td>Tuvault</td><td>80</td><td>Sales</td></tr>\n<tr><td>Clara</td><td>Vishney</td><td>80</td><td>Sales</td></tr>\n<tr><td>Eleni</td><td>Zlotkey</td><td>80</td><td>Sales</td></tr>\n</table>\n"
          },
          "metadata": {},
          "execution_count": 10
        }
      ]
    },
    {
      "cell_type": "code",
      "source": [
        "# 29 From the following tables write a SQL query to find the names of departments where more than two employees are employed. Return dpt_name.\n",
        "exe(\"SELECT a.dpt_name from emp_department a INNER JOIN emp_details ON a.dpt_code=emp_details.emp_dept GROUP BY a.dpt_name HAVING COUNT(*)>2;\")"
      ],
      "metadata": {
        "colab": {
          "base_uri": "https://localhost:8080/",
          "height": 142
        },
        "id": "MC9-W1Tfg46p",
        "outputId": "ce68d4b4-b08e-4b23-bfbe-f3bfe769c3bb"
      },
      "execution_count": null,
      "outputs": [
        {
          "output_type": "execute_result",
          "data": {
            "text/plain": [
              "<IPython.core.display.Markdown object>"
            ],
            "text/markdown": "<table id='rs_tbl' class='table table-bordered' style='display: block; overflow-x: scroll'>\n<tr>\n<th>dpt_name</th></tr><tr><td>Finance        </td></tr>\n<tr><td>HR             </td></tr>\n<tr><td>IT             </td></tr>\n</table>\n"
          },
          "metadata": {},
          "execution_count": 12
        }
      ]
    },
    {
      "cell_type": "code",
      "source": [
        "# 28. From the following tables write a SQL query to find the departments with budgets more than Rs. 50000 and display the first name and last name of employees.\n",
        "# exe(\"SELECT a.dpt_name,b.emp_fname AS \"firstname\", b.lname AS \"lastname\" from emp_department a INNER JOIN emp_details b ON a.dept_code=b.emp_dept WHERE a.dpt_allotment>50000;\")\n",
        "exe(\"SELECT emp_details.emp_fname AS \"First Name\", emp_lname AS \"Last Name\"FROM emp_details INNER JOIN emp_department ON emp_details.emp_dept = emp_department.dpt_code AND emp_department.dpt_allotment > 50000;\")"
      ],
      "metadata": {
        "colab": {
          "base_uri": "https://localhost:8080/",
          "height": 141
        },
        "id": "niVFey8kOxeY",
        "outputId": "9bbe5460-e8e5-466d-e1da-bec3dcbe2582"
      },
      "execution_count": null,
      "outputs": [
        {
          "output_type": "error",
          "ename": "SyntaxError",
          "evalue": "invalid syntax. Perhaps you forgot a comma? (<ipython-input-15-c505c5dca847>, line 3)",
          "traceback": [
            "\u001b[0;36m  File \u001b[0;32m\"<ipython-input-15-c505c5dca847>\"\u001b[0;36m, line \u001b[0;32m3\u001b[0m\n\u001b[0;31m    exe(\"SELECT emp_details.emp_fname AS \"First Name\", emp_lname AS \"Last Name\"FROM emp_details INNER JOIN emp_department ON emp_details.emp_dept = emp_department.dpt_code AND emp_department.dpt_allotment > 50000;\")\u001b[0m\n\u001b[0m        ^\u001b[0m\n\u001b[0;31mSyntaxError\u001b[0m\u001b[0;31m:\u001b[0m invalid syntax. Perhaps you forgot a comma?\n"
          ]
        }
      ]
    },
    {
      "cell_type": "code",
      "source": [
        "# 27. From the following tables write a SQL query to display the first and last names of each employee, as well as the department name and sanction amount\n",
        "# exe(\"SELECT emp_details.emp_fname AS \"FIRST NAME\", emp_lname AS \"LASTNAME\",emp_department.dpt_name AS \"department\", dpt_allotment AS \"AMOUNT ALLOTED\" FROM emp_details INNER JOIN emp_department ON emp_details.emp_dept=emp_department.dpt_code;\")\n",
        "\n",
        "exe(\"SELECT emp_details.emp_fname AS 'FIRST NAME',emp_details.emp_lname AS 'LASTNAME',emp_department.dpt_name AS 'department',emp_department.dpt_allotment AS 'AMOUNT ALLOTED'FROM emp_detailsINNER JOIN emp_department ON emp_details.emp_dept = emp_department.dpt_code;\")\n",
        "# exe(\"SELECT emp_details.emp_fname AS \"First Name\", emp_lname AS \"Last Name\", emp_department.dpt_name AS \"Department\", dpt_allotment AS \"Amount Allotted\" FROM emp_details INNER JOIN emp_department ON emp_details.emp_dept = emp_department.dpt_code;\")"
      ],
      "metadata": {
        "colab": {
          "base_uri": "https://localhost:8080/",
          "height": 17
        },
        "id": "macNKb95RpQt",
        "outputId": "f3a41f46-2bfd-466e-a6fd-f47444e1fe92"
      },
      "execution_count": null,
      "outputs": [
        {
          "output_type": "execute_result",
          "data": {
            "text/plain": [
              "<IPython.core.display.Markdown object>"
            ],
            "text/markdown": "<table id='rs_tbl' class='table table-bordered' style='display: block; overflow-x: scroll'>\n<tr>\n</tr></table>\n"
          },
          "metadata": {},
          "execution_count": 25
        }
      ]
    },
    {
      "cell_type": "code",
      "source": [
        "# 26. From the following tables write a SQL query to display all the data of employees including their department.\n",
        "# exe(\"SELECT emp_idno, A.emp_fname AS \"First Name\", emp_lname AS \"Last Name\", B.dpt_name AS \"Department\", emp_dept, dpt_code, dpt_allotment FROM emp_details A INNER JOIN emp_department B ON A.emp_dept = B.dpt_code;\")\n",
        "exe(\"SELECT * FROM emp_department INNER JOIN emp_details ON emp_department.dpt_code=emp_details.emp_dept;\")"
      ],
      "metadata": {
        "colab": {
          "base_uri": "https://localhost:8080/",
          "height": 456
        },
        "id": "RjUzZIB0Vp0K",
        "outputId": "fc39b557-1a8d-4ba6-b3ac-2b955551c461"
      },
      "execution_count": null,
      "outputs": [
        {
          "output_type": "execute_result",
          "data": {
            "text/plain": [
              "<IPython.core.display.Markdown object>"
            ],
            "text/markdown": "<table id='rs_tbl' class='table table-bordered' style='display: block; overflow-x: scroll'>\n<tr>\n<th>dpt_code</th><th>dpt_name</th><th>dpt_allotment</th><th>emp_idno</th><th>emp_fname</th><th>emp_lname</th><th>emp_dept</th></tr><tr><td>27</td><td>RD             </td><td>55000</td><td>631548</td><td>Alan           </td><td>Snappy         </td><td>27</td></tr>\n<tr><td>57</td><td>IT             </td><td>65000</td><td>839139</td><td>Maria          </td><td>Foster         </td><td>57</td></tr>\n<tr><td>57</td><td>IT             </td><td>65000</td><td>127323</td><td>Michale        </td><td>Robbin         </td><td>57</td></tr>\n<tr><td>63</td><td>Finance        </td><td>15000</td><td>526689</td><td>Carlos         </td><td>Snares         </td><td>63</td></tr>\n<tr><td>57</td><td>IT             </td><td>65000</td><td>843795</td><td>Enric          </td><td>Dosio          </td><td>57</td></tr>\n<tr><td>63</td><td>Finance        </td><td>15000</td><td>328717</td><td>Jhon           </td><td>Snares         </td><td>63</td></tr>\n<tr><td>47</td><td>HR             </td><td>240000</td><td>444527</td><td>Joseph         </td><td>Dosni          </td><td>47</td></tr>\n<tr><td>47</td><td>HR             </td><td>240000</td><td>659831</td><td>Zanifer        </td><td>Emily          </td><td>47</td></tr>\n<tr><td>57</td><td>IT             </td><td>65000</td><td>847674</td><td>Kuleswar       </td><td>Sitaraman      </td><td>57</td></tr>\n<tr><td>47</td><td>HR             </td><td>240000</td><td>748681</td><td>Henrey         </td><td>Gabriel        </td><td>47</td></tr>\n<tr><td>57</td><td>IT             </td><td>65000</td><td>555935</td><td>Alex           </td><td>Manuel         </td><td>57</td></tr>\n<tr><td>27</td><td>RD             </td><td>55000</td><td>539569</td><td>George         </td><td>Mardy          </td><td>27</td></tr>\n<tr><td>63</td><td>Finance        </td><td>15000</td><td>733843</td><td>Mario          </td><td>Saule          </td><td>63</td></tr>\n</table>\n"
          },
          "metadata": {},
          "execution_count": 27
        }
      ]
    },
    {
      "cell_type": "code",
      "source": [
        "# 25. From the following tables write a SQL query to find the most expensive product of each company. Return pro_name, pro_price and com_name.\n",
        "exe(\"SELECT A.pro_name, A.pro_price, F.com_name FROM item_mast A INNER JOIN company_mast F ON A.pro_com = F.com_id AND A.pro_price = ( SELECT MAX(A.pro_price) FROM item_mast A WHERE A.pro_com = F.com_id );\")"
      ],
      "metadata": {
        "colab": {
          "base_uri": "https://localhost:8080/",
          "height": 301
        },
        "id": "hUV7AAnWYbPt",
        "outputId": "f3b2775c-91da-4a3f-9dc1-8ba90e7445fd"
      },
      "execution_count": null,
      "outputs": [
        {
          "output_type": "execute_result",
          "data": {
            "text/plain": [
              "<IPython.core.display.Markdown object>"
            ],
            "text/markdown": "<table id='rs_tbl' class='table table-bordered' style='display: block; overflow-x: scroll'>\n<tr>\n<th>pro_name</th><th>pro_price</th><th>com_name</th></tr><tr><td>Mother Board</td><td>3200.00</td><td>Asus</td></tr>\n<tr><td>ZIP \n\ndrive</td><td>250.00</td><td>Zebronics</td></tr>\n<tr><td>Speaker</td><td>550.00</td><td>Frontech</td></tr>\n<tr><td>Monitor</td><td>5000.00</td><td>Samsung</td></tr>\n<tr><td>DVD \n\ndrive</td><td>900.00</td><td>iBall</td></tr>\n<tr><td>Printer</td><td>2600.00</td><td>Epsion</td></tr>\n</table>\n"
          },
          "metadata": {},
          "execution_count": 28
        }
      ]
    },
    {
      "cell_type": "code",
      "source": [
        "# 24. From the following tables write a SQL query to calculate and find the average price of items of each company higher than or equal to Rs. 350. Return average value and company name.\n",
        "exe(\"SELECT AVG(pro_price), company_mast.com_name FROM item_mast INNER JOIN company_mast ON item_mast.pro_com= company_mast.com_id GROUP BY company_mast.com_name HAVING AVG(pro_price) >= 350;\")"
      ],
      "metadata": {
        "colab": {
          "base_uri": "https://localhost:8080/",
          "height": 205
        },
        "id": "r5xokCwhYden",
        "outputId": "e304e0ee-e44e-42e6-b81b-463e595522cc"
      },
      "execution_count": null,
      "outputs": [
        {
          "output_type": "execute_result",
          "data": {
            "text/plain": [
              "<IPython.core.display.Markdown object>"
            ],
            "text/markdown": "<table id='rs_tbl' class='table table-bordered' style='display: block; overflow-x: scroll'>\n<tr>\n<th>avg</th><th>com_name</th></tr><tr><td>5000.0000000000000000</td><td>Samsung</td></tr>\n<tr><td>500.0000000000000000</td><td>Frontech</td></tr>\n<tr><td>1475.0000000000000000</td><td>Epsion</td></tr>\n<tr><td>650.0000000000000000</td><td>iBall</td></tr>\n<tr><td>3200.0000000000000000</td><td>Asus</td></tr>\n</table>\n"
          },
          "metadata": {},
          "execution_count": 29
        }
      ]
    },
    {
      "cell_type": "code",
      "source": [
        "# 22. Write a SQL query to display the item name, price, and company name of all the products.\n",
        "exe(\"SELECT item_mast.pro_name, pro_price, company_mast.com_name FROM item_mast INNER JOIN company_mast ON item_mast.pro_com = company_mast.com_id;\")"
      ],
      "metadata": {
        "colab": {
          "base_uri": "https://localhost:8080/",
          "height": 485
        },
        "id": "Bv7xH-rzdmZm",
        "outputId": "2842695f-2209-426c-8d13-c3e31eb6a192"
      },
      "execution_count": null,
      "outputs": [
        {
          "output_type": "execute_result",
          "data": {
            "text/plain": [
              "<IPython.core.display.Markdown object>"
            ],
            "text/markdown": "<table id='rs_tbl' class='table table-bordered' style='display: block; overflow-x: scroll'>\n<tr>\n<th>pro_name</th><th>pro_price</th><th>com_name</th></tr><tr><td>Mother Board</td><td>3200.00</td><td>Asus</td></tr>\n<tr><td>Key \n\nBoard</td><td>450.00</td><td>Frontech</td></tr>\n<tr><td>ZIP \n\ndrive</td><td>250.00</td><td>Zebronics</td></tr>\n<tr><td>Speaker</td><td>550.00</td><td>Frontech</td></tr>\n<tr><td>Monitor</td><td>5000.00</td><td>Samsung</td></tr>\n<tr><td>DVD \n\ndrive</td><td>900.00</td><td>iBall</td></tr>\n<tr><td>CD \n\ndrive</td><td>800.00</td><td>iBall</td></tr>\n<tr><td>Printer</td><td>2600.00</td><td>Epsion</td></tr>\n<tr><td>Refill cartridge</td><td>350.00</td><td>Epsion</td></tr>\n<tr><td>Mouse</td><td>250.00</td><td>iBall</td></tr>\n</table>\n"
          },
          "metadata": {},
          "execution_count": 30
        }
      ]
    },
    {
      "cell_type": "code",
      "source": [
        "# SELECT * FROM salesman CROSS JOIN customer WHERE salesman.city<> customer.city AND customer.grade IS NOT NULL;\n",
        "exe(\"SELECT * FROM salesman CROSS JOIN customer WHERE salesman.city<> customer.city AND customer.grade IS NOT NULL;\")"
      ],
      "metadata": {
        "colab": {
          "base_uri": "https://localhost:8080/",
          "height": 1000
        },
        "id": "w1eZs9ZIffIE",
        "outputId": "0c26942b-f596-4c08-b57c-4eded5644516"
      },
      "execution_count": null,
      "outputs": [
        {
          "output_type": "execute_result",
          "data": {
            "text/plain": [
              "<IPython.core.display.Markdown object>"
            ],
            "text/markdown": "<table id='rs_tbl' class='table table-bordered' style='display: block; overflow-x: scroll'>\n<tr>\n<th>salesman_id</th><th>name</th><th>city</th><th>commission</th><th>customer_id</th><th>cust_name</th><th>grade</th></tr><tr><td>5001</td><td>Nail Knite</td><td>New York</td><td>0.13</td><td>3002</td><td>Nick Rimando</td><td>100</td></tr>\n<tr><td>5001</td><td>Pit Alex</td><td>New York</td><td>0.11</td><td>3002</td><td>Nick Rimando</td><td>100</td></tr>\n<tr><td>5001</td><td>Mc Lyon</td><td>New York</td><td>0.14</td><td>3002</td><td>Nick Rimando</td><td>100</td></tr>\n<tr><td>5001</td><td>Paul Adam</td><td>New York</td><td>0.13</td><td>3002</td><td>Nick Rimando</td><td>100</td></tr>\n<tr><td>5001</td><td>Lauson Hen</td><td>New York</td><td>0.12</td><td>3002</td><td>Nick Rimando</td><td>100</td></tr>\n<tr><td>5001</td><td>Nail Knite</td><td>New York</td><td>0.13</td><td>3007</td><td>Brad Davis</td><td>200</td></tr>\n<tr><td>5001</td><td>Pit Alex</td><td>New York</td><td>0.11</td><td>3007</td><td>Brad Davis</td><td>200</td></tr>\n<tr><td>5001</td><td>Mc Lyon</td><td>New York</td><td>0.14</td><td>3007</td><td>Brad Davis</td><td>200</td></tr>\n<tr><td>5001</td><td>Paul Adam</td><td>New York</td><td>0.13</td><td>3007</td><td>Brad Davis</td><td>200</td></tr>\n<tr><td>5001</td><td>Lauson Hen</td><td>New York</td><td>0.12</td><td>3007</td><td>Brad Davis</td><td>200</td></tr>\n<tr><td>5002</td><td>James Hoog</td><td>California</td><td>0.15</td><td>3005</td><td>Graham Zusi</td><td>200</td></tr>\n<tr><td>5002</td><td>Nail Knite</td><td>California</td><td>0.13</td><td>3005</td><td>Graham Zusi</td><td>200</td></tr>\n<tr><td>5002</td><td>Pit Alex</td><td>California</td><td>0.11</td><td>3005</td><td>Graham Zusi</td><td>200</td></tr>\n<tr><td>5002</td><td>Mc Lyon</td><td>California</td><td>0.14</td><td>3005</td><td>Graham Zusi</td><td>200</td></tr>\n<tr><td>5002</td><td>Paul Adam</td><td>California</td><td>0.13</td><td>3005</td><td>Graham Zusi</td><td>200</td></tr>\n<tr><td>5002</td><td>Lauson Hen</td><td>California</td><td>0.12</td><td>3005</td><td>Graham Zusi</td><td>200</td></tr>\n<tr><td>5002</td><td>James Hoog</td><td>London</td><td>0.15</td><td>3008</td><td>Julian Green</td><td>300</td></tr>\n<tr><td>5002</td><td>Nail Knite</td><td>London</td><td>0.13</td><td>3008</td><td>Julian Green</td><td>300</td></tr>\n<tr><td>5002</td><td>Mc Lyon</td><td>London</td><td>0.14</td><td>3008</td><td>Julian Green</td><td>300</td></tr>\n<tr><td>5002</td><td>Paul Adam</td><td>London</td><td>0.13</td><td>3008</td><td>Julian Green</td><td>300</td></tr>\n<tr><td>5002</td><td>Lauson Hen</td><td>London</td><td>0.12</td><td>3008</td><td>Julian Green</td><td>300</td></tr>\n<tr><td>5006</td><td>James Hoog</td><td>Paris</td><td>0.15</td><td>3004</td><td>Fabian Johnson</td><td>300</td></tr>\n<tr><td>5006</td><td>Pit Alex</td><td>Paris</td><td>0.11</td><td>3004</td><td>Fabian Johnson</td><td>300</td></tr>\n<tr><td>5006</td><td>Paul Adam</td><td>Paris</td><td>0.13</td><td>3004</td><td>Fabian Johnson</td><td>300</td></tr>\n<tr><td>5006</td><td>Lauson Hen</td><td>Paris</td><td>0.12</td><td>3004</td><td>Fabian Johnson</td><td>300</td></tr>\n<tr><td>5003</td><td>James Hoog</td><td>Berlin</td><td>0.15</td><td>3009</td><td>Geoff Cameron</td><td>100</td></tr>\n<tr><td>5003</td><td>Nail Knite</td><td>Berlin</td><td>0.13</td><td>3009</td><td>Geoff Cameron</td><td>100</td></tr>\n<tr><td>5003</td><td>Pit Alex</td><td>Berlin</td><td>0.11</td><td>3009</td><td>Geoff Cameron</td><td>100</td></tr>\n<tr><td>5003</td><td>Mc Lyon</td><td>Berlin</td><td>0.14</td><td>3009</td><td>Geoff Cameron</td><td>100</td></tr>\n<tr><td>5003</td><td>Paul Adam</td><td>Berlin</td><td>0.13</td><td>3009</td><td>Geoff Cameron</td><td>100</td></tr>\n<tr><td>5003</td><td>Lauson Hen</td><td>Berlin</td><td>0.12</td><td>3009</td><td>Geoff Cameron</td><td>100</td></tr>\n<tr><td>5007</td><td>James Hoog</td><td>Moscow</td><td>0.15</td><td>3003</td><td>Jozy Altidor</td><td>200</td></tr>\n<tr><td>5007</td><td>Nail Knite</td><td>Moscow</td><td>0.13</td><td>3003</td><td>Jozy Altidor</td><td>200</td></tr>\n<tr><td>5007</td><td>Pit Alex</td><td>Moscow</td><td>0.11</td><td>3003</td><td>Jozy Altidor</td><td>200</td></tr>\n<tr><td>5007</td><td>Mc Lyon</td><td>Moscow</td><td>0.14</td><td>3003</td><td>Jozy Altidor</td><td>200</td></tr>\n<tr><td>5007</td><td>Paul Adam</td><td>Moscow</td><td>0.13</td><td>3003</td><td>Jozy Altidor</td><td>200</td></tr>\n<tr><td>5007</td><td>Lauson Hen</td><td>Moscow</td><td>0.12</td><td>3003</td><td>Jozy Altidor</td><td>200</td></tr>\n</table>\n"
          },
          "metadata": {},
          "execution_count": 31
        }
      ]
    },
    {
      "cell_type": "code",
      "source": [
        "# 1. From the following tables, write a SQL query to find all the orders issued by the salesman 'Paul Adam'. Return ord_no, purch_amt, ord_date, customer_id and salesman_id.\n",
        "exe(\"SELECT * FROM orders WHERE salesman_id = (select salesman_id FROM salesman WHERE name='Paul Adam');\")"
      ],
      "metadata": {
        "id": "kQm2fhoGfnOZ",
        "colab": {
          "base_uri": "https://localhost:8080/",
          "height": 80
        },
        "outputId": "6477fff8-7f01-4395-94fb-5f0f46be19a4"
      },
      "execution_count": null,
      "outputs": [
        {
          "output_type": "execute_result",
          "data": {
            "text/plain": [
              "<IPython.core.display.Markdown object>"
            ],
            "text/markdown": "<table id='rs_tbl' class='table table-bordered' style='display: block; overflow-x: scroll'>\n<tr>\n<th>ord_no</th><th>purch_amt</th><th>ord_date</th><th>customer_id</th><th>salesman_id</th></tr><tr><td>70011</td><td>75.29</td><td>2012-08-17</td><td>3003</td><td>5007</td></tr>\n</table>\n"
          },
          "metadata": {},
          "execution_count": 5
        }
      ]
    },
    {
      "cell_type": "code",
      "source": [
        "# 2. From the following tables write a SQL query to find all orders generated by London-based salespeople. Return ord_no, purch_amt, ord_date, customer_id, salesman_id.\n",
        "exe(\"SELECT * FROM orders WHERE salesman_id IN (SELECT salesman_id FROM salesman WHERE city='London');\")"
      ],
      "metadata": {
        "id": "SEDHjdLNfpMI",
        "colab": {
          "base_uri": "https://localhost:8080/",
          "height": 80
        },
        "outputId": "c0a07659-95a2-4a2e-e379-51cec4cb367d"
      },
      "execution_count": null,
      "outputs": [
        {
          "output_type": "execute_result",
          "data": {
            "text/plain": [
              "<IPython.core.display.Markdown object>"
            ],
            "text/markdown": "<table id='rs_tbl' class='table table-bordered' style='display: block; overflow-x: scroll'>\n<tr>\n<th>ord_no</th><th>purch_amt</th><th>ord_date</th><th>customer_id</th><th>salesman_id</th></tr><tr><td>70009</td><td>270.65</td><td>2012-09-10</td><td>3001</td><td>5005</td></tr>\n</table>\n"
          },
          "metadata": {},
          "execution_count": 7
        }
      ]
    },
    {
      "cell_type": "code",
      "source": [
        "# 3. From the following tables write a SQL query to find all orders generated by the salespeople who may work for customers whose id is 3007. Return ord_no, purch_amt, ord_date, customer_id, salesman_id.\n",
        "exe(\"SELECT * FROM orders WHERE salesman_id = (SELECT DISTINCT salesman_id FROM orders WHERE customer_id =3007);\")"
      ],
      "metadata": {
        "colab": {
          "base_uri": "https://localhost:8080/",
          "height": 174
        },
        "id": "JCvNlZhD2ICJ",
        "outputId": "f54e7c88-3712-4a98-d707-23c2d332d70d"
      },
      "execution_count": null,
      "outputs": [
        {
          "output_type": "execute_result",
          "data": {
            "text/plain": [
              "<IPython.core.display.Markdown object>"
            ],
            "text/markdown": "<table id='rs_tbl' class='table table-bordered' style='display: block; overflow-x: scroll'>\n<tr>\n<th>ord_no</th><th>purch_amt</th><th>ord_date</th><th>customer_id</th><th>salesman_id</th></tr><tr><td>70002</td><td>65.26</td><td>2012-10-05</td><td>3002</td><td>5001</td></tr>\n<tr><td>70005</td><td>2400.60</td><td>2012-07-27</td><td>3007</td><td>5001</td></tr>\n<tr><td>70008</td><td>5760.00</td><td>2012-09-10</td><td>3002</td><td>5001</td></tr>\n<tr><td>70013</td><td>3045.60</td><td>2012-04-25</td><td>3002</td><td>5001</td></tr>\n</table>\n"
          },
          "metadata": {},
          "execution_count": 8
        }
      ]
    },
    {
      "cell_type": "code",
      "source": [
        "# 4. From the following tables write a SQL query to find the order values greater than the average order value of 10th October 2012. Return ord_no, purch_amt, ord_date, customer_id, salesman_id.\n",
        "exe(\"SELECT * FROM orders WHERE purch_amt > (select AVG(purch_amt) FROM orders where ord_date ='10/10/2012');\")"
      ],
      "metadata": {
        "colab": {
          "base_uri": "https://localhost:8080/",
          "height": 174
        },
        "id": "PDQ4D3bf5NQg",
        "outputId": "ec1f3c94-3d2a-4282-e2b8-b643b0a799f4"
      },
      "execution_count": null,
      "outputs": [
        {
          "output_type": "execute_result",
          "data": {
            "text/plain": [
              "<IPython.core.display.Markdown object>"
            ],
            "text/markdown": "<table id='rs_tbl' class='table table-bordered' style='display: block; overflow-x: scroll'>\n<tr>\n<th>ord_no</th><th>purch_amt</th><th>ord_date</th><th>customer_id</th><th>salesman_id</th></tr><tr><td>70005</td><td>2400.60</td><td>2012-07-27</td><td>3007</td><td>5001</td></tr>\n<tr><td>70008</td><td>5760.00</td><td>2012-09-10</td><td>3002</td><td>5001</td></tr>\n<tr><td>70003</td><td>2480.40</td><td>2012-10-10</td><td>3009</td><td>5003</td></tr>\n<tr><td>70013</td><td>3045.60</td><td>2012-04-25</td><td>3002</td><td>5001</td></tr>\n</table>\n"
          },
          "metadata": {},
          "execution_count": 9
        }
      ]
    },
    {
      "cell_type": "code",
      "source": [
        "# 7.(wrong) Write a query to display all the customers whose ID is 2001 below the salesperson ID of Mc Lyon./\n",
        "# exe(\"select * from customer where customer_id=2001 AND(select salesman_id from salesman where salesman_id<5006)\")\n",
        "exe(\"SELECT * FROM customer WHERE customer_id = (select salesman_id -2001 FROM salesman WHERE name = 'Mc Lyon');\")"
      ],
      "metadata": {
        "colab": {
          "base_uri": "https://localhost:8080/",
          "height": 80
        },
        "id": "Yw9f0Shg7MtK",
        "outputId": "4678b6c4-23ea-4976-b86b-779209b25080"
      },
      "execution_count": null,
      "outputs": [
        {
          "output_type": "execute_result",
          "data": {
            "text/plain": [
              "<IPython.core.display.Markdown object>"
            ],
            "text/markdown": "<table id='rs_tbl' class='table table-bordered' style='display: block; overflow-x: scroll'>\n<tr>\n<th>customer_id</th><th>cust_name</th><th>city</th><th>grade</th><th>salesman_id</th></tr><tr><td>3005</td><td>Graham Zusi</td><td>California</td><td>200</td><td>5002</td></tr>\n</table>\n"
          },
          "metadata": {},
          "execution_count": 11
        }
      ]
    },
    {
      "cell_type": "code",
      "source": [
        "# 9. From the following tables, write a SQL query to find those salespeople who earned the maximum commission. Return ord_no, purch_amt, ord_date, and salesman_id.\n",
        "\n",
        "exe(\"SELECT ord_no, purch_amt, ord_date, salesman_id FROM orders WHERE salesman_id IN(SELECT salesman_id FROM salesman WHERE commission = (SELECT MAX(commission) FROM salesman));\")"
      ],
      "metadata": {
        "id": "5_hD7bbN_Pqb",
        "colab": {
          "base_uri": "https://localhost:8080/",
          "height": 174
        },
        "outputId": "7831ede0-25c4-4ec9-dc4a-aa72dc9e27fe"
      },
      "execution_count": null,
      "outputs": [
        {
          "output_type": "execute_result",
          "data": {
            "text/plain": [
              "<IPython.core.display.Markdown object>"
            ],
            "text/markdown": "<table id='rs_tbl' class='table table-bordered' style='display: block; overflow-x: scroll'>\n<tr>\n<th>ord_no</th><th>purch_amt</th><th>ord_date</th><th>salesman_id</th></tr><tr><td>70002</td><td>65.26</td><td>2012-10-05</td><td>5001</td></tr>\n<tr><td>70005</td><td>2400.60</td><td>2012-07-27</td><td>5001</td></tr>\n<tr><td>70008</td><td>5760.00</td><td>2012-09-10</td><td>5001</td></tr>\n<tr><td>70013</td><td>3045.60</td><td>2012-04-25</td><td>5001</td></tr>\n</table>\n"
          },
          "metadata": {},
          "execution_count": 4
        }
      ]
    },
    {
      "cell_type": "code",
      "source": [
        "# 11. From the following tables write a SQL query to find salespeople who had more than one customer. Return salesman_id and name.\n",
        "# exe(\"SELECT salesman_id, name FROM salesman WHERE 1<(SELECT COUNT(*) FROM customer WHERE salesman_id=salesman.salesman_id); )\")\n",
        "exe(\"SELECT salesman_id,name FROM salesman a WHERE 1 < (SELECT COUNT(*) FROM customer WHERE salesman_id=a.salesman_id);\")"
      ],
      "metadata": {
        "colab": {
          "base_uri": "https://localhost:8080/",
          "height": 111
        },
        "id": "J7XBWYG2GSkc",
        "outputId": "290d35fe-6f44-4c8f-bcab-1b59996d639a"
      },
      "execution_count": null,
      "outputs": [
        {
          "output_type": "execute_result",
          "data": {
            "text/plain": [
              "<IPython.core.display.Markdown object>"
            ],
            "text/markdown": "<table id='rs_tbl' class='table table-bordered' style='display: block; overflow-x: scroll'>\n<tr>\n<th>salesman_id</th><th>name</th></tr><tr><td>5001</td><td>James Hoog</td></tr>\n<tr><td>5002</td><td>Nail Knite</td></tr>\n</table>\n"
          },
          "metadata": {},
          "execution_count": 6
        }
      ]
    },
    {
      "cell_type": "code",
      "source": [
        "# 13.(not-understood) From the following tables write a SQL query to find those orders that are equal or higher than the average amount of the orders. Return ord_no, purch_amt, ord_date, customer_id and salesman_id\n",
        "#  exe(\"SELECT * FROM orders WHERE purch_amt >= (SELECT AVG(purch_amt) FROM orders);\")\n",
        "exe(\"SELECT * FROM orders a WHERE purch_amt >= (SELECT AVG(purch_amt) FROM orders b WHERE b.customer_id = a.customer_id);\")"
      ],
      "metadata": {
        "colab": {
          "base_uri": "https://localhost:8080/",
          "height": 331
        },
        "id": "N_GWgoy_GTC4",
        "outputId": "733a5c2e-dbb4-4407-a952-8bef4898c902"
      },
      "execution_count": null,
      "outputs": [
        {
          "output_type": "execute_result",
          "data": {
            "text/plain": [
              "<IPython.core.display.Markdown object>"
            ],
            "text/markdown": "<table id='rs_tbl' class='table table-bordered' style='display: block; overflow-x: scroll'>\n<tr>\n<th>ord_no</th><th>purch_amt</th><th>ord_date</th><th>customer_id</th><th>salesman_id</th></tr><tr><td>70009</td><td>270.65</td><td>2012-09-10</td><td>3001</td><td>5005</td></tr>\n<tr><td>70005</td><td>2400.60</td><td>2012-07-27</td><td>3007</td><td>5001</td></tr>\n<tr><td>70008</td><td>5760.00</td><td>2012-09-10</td><td>3002</td><td>5001</td></tr>\n<tr><td>70010</td><td>1983.43</td><td>2012-10-10</td><td>3004</td><td>5006</td></tr>\n<tr><td>70003</td><td>2480.40</td><td>2012-10-10</td><td>3009</td><td>5003</td></tr>\n<tr><td>70011</td><td>75.29</td><td>2012-08-17</td><td>3003</td><td>5007</td></tr>\n<tr><td>70013</td><td>3045.60</td><td>2012-04-25</td><td>3002</td><td>5001</td></tr>\n<tr><td>70007</td><td>948.50</td><td>2012-09-10</td><td>3005</td><td>5002</td></tr>\n<tr><td>70012</td><td>250.45</td><td>2012-06-27</td><td>3008</td><td>5002</td></tr>\n</table>\n"
          },
          "metadata": {},
          "execution_count": 10
        }
      ]
    },
    {
      "cell_type": "code",
      "source": [
        "# 14. Write a query to find the sums of the amounts from the orders table, grouped by date, and eliminate all dates where the sum was not at least 1000.00 above the maximum order amount for that date.\n",
        "exe(\"SELECT \")"
      ],
      "metadata": {
        "id": "6vqcBM9YGcOK"
      },
      "execution_count": null,
      "outputs": []
    },
    {
      "cell_type": "code",
      "source": [
        "# 1. From the following tables, write a SQL query to find all salespeople and customers located in the city of London.\n",
        "exe(\"SELECT salesman_id, name FROM salesman WHERE city='London' UNION (SELECT customer_id, cust_name FROM customer WHERE city='London');\")"
      ],
      "metadata": {
        "colab": {
          "base_uri": "https://localhost:8080/",
          "height": 142
        },
        "id": "GDCbt8l4KIzf",
        "outputId": "0fe6798f-2cb8-471f-9dc0-5f9efba9750b"
      },
      "execution_count": null,
      "outputs": [
        {
          "output_type": "execute_result",
          "data": {
            "text/plain": [
              "<IPython.core.display.Markdown object>"
            ],
            "text/markdown": "<table id='rs_tbl' class='table table-bordered' style='display: block; overflow-x: scroll'>\n<tr>\n<th>salesman_id</th><th>name</th></tr><tr><td>3001</td><td>Brad Guzan</td></tr>\n<tr><td>3008</td><td>Julian Green</td></tr>\n<tr><td>5005</td><td>Pit Alex</td></tr>\n</table>\n"
          },
          "metadata": {},
          "execution_count": 8
        }
      ]
    },
    {
      "cell_type": "code",
      "source": [
        "# 2. From the following tables, write a SQL query to find distinct salespeople and their cities. Return salesperson ID and city.\n",
        "exe(\"SELECT salesman_id, city FROM customer UNION (SELECT salesman_id, city FROM salesman)\")"
      ],
      "metadata": {
        "colab": {
          "base_uri": "https://localhost:8080/",
          "height": 362
        },
        "id": "qCkExFEhKJby",
        "outputId": "7f1f6ac2-c914-4053-9d7b-86e225cbb2de"
      },
      "execution_count": null,
      "outputs": [
        {
          "output_type": "execute_result",
          "data": {
            "text/plain": [
              "<IPython.core.display.Markdown object>"
            ],
            "text/markdown": "<table id='rs_tbl' class='table table-bordered' style='display: block; overflow-x: scroll'>\n<tr>\n<th>salesman_id</th><th>city</th></tr><tr><td>5007</td><td>Rome</td></tr>\n<tr><td>5002</td><td>Paris</td></tr>\n<tr><td>5001</td><td>New York</td></tr>\n<tr><td>5003</td><td>Berlin</td></tr>\n<tr><td>5005</td><td>London</td></tr>\n<tr><td>5006</td><td>Paris</td></tr>\n<tr><td>5002</td><td>California</td></tr>\n<tr><td>5003</td><td>San Jose</td></tr>\n<tr><td>5007</td><td>Moscow</td></tr>\n<tr><td>5002</td><td>London</td></tr>\n</table>\n"
          },
          "metadata": {},
          "execution_count": 6
        }
      ]
    },
    {
      "cell_type": "code",
      "source": [
        "# 2. From the following tables, write a SQL query to find distinct salespeople and their cities. Return salesperson ID and city.\n",
        "exe(\"SELECT salesman_id, customer_id FROM customer UNION (SELECT salesman_id, customer_id FROM orders)\")"
      ],
      "metadata": {
        "colab": {
          "base_uri": "https://localhost:8080/",
          "height": 299
        },
        "id": "XBsPqbVFKJ9F",
        "outputId": "bdec1270-47fe-4dd2-bde7-7c2d2b5b5496"
      },
      "execution_count": null,
      "outputs": [
        {
          "output_type": "execute_result",
          "data": {
            "text/plain": [
              "<IPython.core.display.Markdown object>"
            ],
            "text/markdown": "<table id='rs_tbl' class='table table-bordered' style='display: block; overflow-x: scroll'>\n<tr>\n<th>salesman_id</th><th>customer_id</th></tr><tr><td>5007</td><td>3003</td></tr>\n<tr><td>5006</td><td>3004</td></tr>\n<tr><td>5005</td><td>3001</td></tr>\n<tr><td>5002</td><td>3005</td></tr>\n<tr><td>5001</td><td>3007</td></tr>\n<tr><td>5001</td><td>3002</td></tr>\n<tr><td>5002</td><td>3008</td></tr>\n<tr><td>5003</td><td>3009</td></tr>\n</table>\n"
          },
          "metadata": {},
          "execution_count": 9
        }
      ]
    },
    {
      "cell_type": "code",
      "source": [
        "exe(\"SELECT customer_id as ID,  cust_name as NAME FROM customer a WHERE 1< (SELECT COUNT (*) FROM orders b WHERE a.customer_id = b.customer_id) UNION (SELECT salesman_id as ID, name as NAME FROM salesman a WHERE 1 < (SELECT COUNT (*) FROM orders b WHERE  a.salesman_id = b.salesman_id)) ORDER BY 2\")"
      ],
      "metadata": {
        "colab": {
          "base_uri": "https://localhost:8080/",
          "height": 236
        },
        "id": "FEVGPSU-KKe_",
        "outputId": "986d384f-8b1f-4a27-c8b9-5af214494bc4"
      },
      "execution_count": null,
      "outputs": [
        {
          "output_type": "execute_result",
          "data": {
            "text/plain": [
              "<IPython.core.display.Markdown object>"
            ],
            "text/markdown": "<table id='rs_tbl' class='table table-bordered' style='display: block; overflow-x: scroll'>\n<tr>\n<th>id</th><th>name</th></tr><tr><td>3009</td><td>Geoff Cameron</td></tr>\n<tr><td>3005</td><td>Graham Zusi</td></tr>\n<tr><td>5001</td><td>James Hoog</td></tr>\n<tr><td>5003</td><td>Lauson Hen</td></tr>\n<tr><td>5002</td><td>Nail Knite</td></tr>\n<tr><td>3002</td><td>Nick Rimando</td></tr>\n</table>\n"
          },
          "metadata": {},
          "execution_count": 10
        }
      ]
    },
    {
      "cell_type": "code",
      "source": [
        "exe(\"CREATE VIEW newyorkstaff AS SELECT * FROM salesman WHERE city = 'New York';\")"
      ],
      "metadata": {
        "id": "ZNW2hQzvNos6",
        "colab": {
          "base_uri": "https://localhost:8080/",
          "height": 46
        },
        "outputId": "828a66c3-6d95-465a-c7f4-2c0d7995e851"
      },
      "execution_count": null,
      "outputs": [
        {
          "output_type": "execute_result",
          "data": {
            "text/plain": [
              "<IPython.core.display.Markdown object>"
            ],
            "text/markdown": "NOT AUTHORIZED"
          },
          "metadata": {},
          "execution_count": 14
        }
      ]
    },
    {
      "cell_type": "code",
      "source": [],
      "metadata": {
        "id": "9qYw4KItR-qv"
      },
      "execution_count": null,
      "outputs": []
    },
    {
      "cell_type": "code",
      "source": [],
      "metadata": {
        "id": "HkWE7IHVR_BG"
      },
      "execution_count": null,
      "outputs": []
    }
  ],
  "metadata": {
    "kernelspec": {
      "display_name": "Python 3",
      "language": "python",
      "name": "python3"
    },
    "language_info": {
      "codemirror_mode": {
        "name": "ipython",
        "version": 3
      },
      "file_extension": ".py",
      "mimetype": "text/x-python",
      "name": "python",
      "nbconvert_exporter": "python",
      "pygments_lexer": "ipython3",
      "version": "3.9.6"
    },
    "colab": {
      "provenance": [],
      "include_colab_link": true
    }
  },
  "nbformat": 4,
  "nbformat_minor": 0
}